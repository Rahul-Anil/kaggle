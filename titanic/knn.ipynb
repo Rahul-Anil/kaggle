{
 "cells": [
  {
   "cell_type": "code",
   "execution_count": 154,
   "metadata": {},
   "outputs": [],
   "source": [
    "import pandas as pd\n",
    "import numpy as np"
   ]
  },
  {
   "cell_type": "code",
   "execution_count": 155,
   "metadata": {},
   "outputs": [],
   "source": [
    "train_df = pd.read_csv(\n",
    "    \"/Users/rahulanil/garchomp/projects/kaggle/titanic/data/train.csv\"\n",
    ")\n",
    "test_df = pd.read_csv(\"/Users/rahulanil/garchomp/projects/kaggle/titanic/data/test.csv\")"
   ]
  },
  {
   "cell_type": "code",
   "execution_count": 156,
   "metadata": {},
   "outputs": [],
   "source": [
    "import titanic_preprocessing as tp\n",
    "\n",
    "test_df_passengeId = test_df[\"PassengerId\"]\n",
    "train_df, test_df = tp.generic_perprocessing(train_df, test_df)"
   ]
  },
  {
   "cell_type": "code",
   "execution_count": 157,
   "metadata": {},
   "outputs": [],
   "source": [
    "X = train_df.loc[:, train_df.columns != \"Survived\"]\n",
    "y = train_df[\"Survived\"]"
   ]
  },
  {
   "cell_type": "code",
   "execution_count": 158,
   "metadata": {},
   "outputs": [
    {
     "name": "stdout",
     "output_type": "stream",
     "text": [
      "X_ct shpae: (889, 21)\n",
      "X_test shpae: (223, 21)\n"
     ]
    }
   ],
   "source": [
    "from sklearn.compose import ColumnTransformer\n",
    "from sklearn.preprocessing import OneHotEncoder, StandardScaler\n",
    "\n",
    "# Survived = y\n",
    "# OneHotEncoding: Pclass, Sex, Embarked, Initials\n",
    "# StandardScalar: Age, SibSp, Parch, Fare, Family_size\n",
    "\n",
    "ct = ColumnTransformer(\n",
    "    [\n",
    "        (\n",
    "            \"onehot\",\n",
    "            OneHotEncoder(sparse=False),\n",
    "            [\"Pclass\", \"Sex\", \"Embarked\", \"Initials\"],\n",
    "        ),\n",
    "        (\n",
    "            \"StandardScaler\",\n",
    "            StandardScaler(),\n",
    "            [\"Age\", \"SibSp\", \"Parch\", \"Fare\", \"Family_size\"],\n",
    "        ),\n",
    "    ]\n",
    ")\n",
    "\n",
    "ct.fit(X)\n",
    "X_ct = ct.transform(X)\n",
    "print(f\"X_ct shpae: {X_ct.shape}\")\n",
    "\n",
    "test = ct.transform(test_df)\n",
    "print(f\"X_test shpae: {X_test.shape}\")"
   ]
  },
  {
   "cell_type": "code",
   "execution_count": 159,
   "metadata": {},
   "outputs": [
    {
     "data": {
      "text/plain": [
       "array(['onehot__Pclass_1', 'onehot__Pclass_2', 'onehot__Pclass_3',\n",
       "       'onehot__Sex_female', 'onehot__Sex_male', 'onehot__Embarked_C',\n",
       "       'onehot__Embarked_Q', 'onehot__Embarked_S', 'onehot__Initials_Dr',\n",
       "       'onehot__Initials_F_N', 'onehot__Initials_M_N',\n",
       "       'onehot__Initials_Master', 'onehot__Initials_Miss',\n",
       "       'onehot__Initials_Mr', 'onehot__Initials_Mrs',\n",
       "       'onehot__Initials_Special', 'StandardScaler__Age',\n",
       "       'StandardScaler__SibSp', 'StandardScaler__Parch',\n",
       "       'StandardScaler__Fare', 'StandardScaler__Family_size'],\n",
       "      dtype=object)"
      ]
     },
     "execution_count": 159,
     "metadata": {},
     "output_type": "execute_result"
    }
   ],
   "source": [
    "ct.get_feature_names_out()"
   ]
  },
  {
   "cell_type": "code",
   "execution_count": 160,
   "metadata": {},
   "outputs": [
    {
     "name": "stdout",
     "output_type": "stream",
     "text": [
      "train score: 0.8706411698537683\n"
     ]
    }
   ],
   "source": [
    "from sklearn.neighbors import KNeighborsClassifier\n",
    "\n",
    "clf = KNeighborsClassifier(n_neighbors=3)\n",
    "\n",
    "clf.fit(X_ct, y)\n",
    "print(f\"train score: {clf.score(X_ct, y)}\")"
   ]
  },
  {
   "cell_type": "code",
   "execution_count": 161,
   "metadata": {},
   "outputs": [
    {
     "name": "stdout",
     "output_type": "stream",
     "text": [
      "scores: [0.7752809  0.76966292 0.86516854 0.80898876 0.80225989]\n",
      "scores mean: 0.8042722021202311\n"
     ]
    }
   ],
   "source": [
    "scores = cross_val_score(clf, X_ct, y, cv=5)\n",
    "print(f\"scores: {scores}\")\n",
    "print(f\"scores mean: {scores.mean()}\")"
   ]
  },
  {
   "cell_type": "code",
   "execution_count": 162,
   "metadata": {},
   "outputs": [],
   "source": [
    "from sklearn.model_selection import GridSearchCV\n",
    "\n",
    "param_grid = {\"n_neighbors\": [i for i in range(1, 10)]}\n",
    "\n",
    "grid_search = GridSearchCV(KNeighborsClassifier(), param_grid, cv=5, return_train_score=True)"
   ]
  },
  {
   "cell_type": "code",
   "execution_count": 163,
   "metadata": {},
   "outputs": [
    {
     "name": "stdout",
     "output_type": "stream",
     "text": [
      "test scores: 0.7713004484304933\n",
      "Best parametesrs: {'n_neighbors': 9}\n",
      "best cross validation score: 0.8393558523173607\n"
     ]
    }
   ],
   "source": [
    "from sklearn.model_selection import train_test_split\n",
    "\n",
    "X_train, X_test, y_train, y_test = train_test_split(X_ct, y, random_state=0)\n",
    "\n",
    "grid_search.fit(X_train, y_train)\n",
    "print(f\"test scores: {grid_search.score(X_test, y_test)}\")\n",
    "print(f\"Best parametesrs: {grid_search.best_params_}\")\n",
    "print(f\"best cross validation score: {grid_search.best_score_}\")"
   ]
  },
  {
   "cell_type": "code",
   "execution_count": 164,
   "metadata": {},
   "outputs": [
    {
     "name": "stdout",
     "output_type": "stream",
     "text": [
      "0.8706411698537683\n"
     ]
    },
    {
     "data": {
      "text/html": [
       "<div>\n",
       "<style scoped>\n",
       "    .dataframe tbody tr th:only-of-type {\n",
       "        vertical-align: middle;\n",
       "    }\n",
       "\n",
       "    .dataframe tbody tr th {\n",
       "        vertical-align: top;\n",
       "    }\n",
       "\n",
       "    .dataframe thead th {\n",
       "        text-align: right;\n",
       "    }\n",
       "</style>\n",
       "<table border=\"1\" class=\"dataframe\">\n",
       "  <thead>\n",
       "    <tr style=\"text-align: right;\">\n",
       "      <th></th>\n",
       "      <th>PassengerId</th>\n",
       "      <th>Survived</th>\n",
       "    </tr>\n",
       "  </thead>\n",
       "  <tbody>\n",
       "    <tr>\n",
       "      <th>0</th>\n",
       "      <td>892</td>\n",
       "      <td>0</td>\n",
       "    </tr>\n",
       "    <tr>\n",
       "      <th>1</th>\n",
       "      <td>893</td>\n",
       "      <td>0</td>\n",
       "    </tr>\n",
       "    <tr>\n",
       "      <th>2</th>\n",
       "      <td>894</td>\n",
       "      <td>0</td>\n",
       "    </tr>\n",
       "    <tr>\n",
       "      <th>3</th>\n",
       "      <td>895</td>\n",
       "      <td>1</td>\n",
       "    </tr>\n",
       "    <tr>\n",
       "      <th>4</th>\n",
       "      <td>896</td>\n",
       "      <td>0</td>\n",
       "    </tr>\n",
       "    <tr>\n",
       "      <th>...</th>\n",
       "      <td>...</td>\n",
       "      <td>...</td>\n",
       "    </tr>\n",
       "    <tr>\n",
       "      <th>413</th>\n",
       "      <td>1305</td>\n",
       "      <td>0</td>\n",
       "    </tr>\n",
       "    <tr>\n",
       "      <th>414</th>\n",
       "      <td>1306</td>\n",
       "      <td>1</td>\n",
       "    </tr>\n",
       "    <tr>\n",
       "      <th>415</th>\n",
       "      <td>1307</td>\n",
       "      <td>0</td>\n",
       "    </tr>\n",
       "    <tr>\n",
       "      <th>416</th>\n",
       "      <td>1308</td>\n",
       "      <td>0</td>\n",
       "    </tr>\n",
       "    <tr>\n",
       "      <th>417</th>\n",
       "      <td>1309</td>\n",
       "      <td>1</td>\n",
       "    </tr>\n",
       "  </tbody>\n",
       "</table>\n",
       "<p>418 rows × 2 columns</p>\n",
       "</div>"
      ],
      "text/plain": [
       "     PassengerId  Survived\n",
       "0            892         0\n",
       "1            893         0\n",
       "2            894         0\n",
       "3            895         1\n",
       "4            896         0\n",
       "..           ...       ...\n",
       "413         1305         0\n",
       "414         1306         1\n",
       "415         1307         0\n",
       "416         1308         0\n",
       "417         1309         1\n",
       "\n",
       "[418 rows x 2 columns]"
      ]
     },
     "metadata": {},
     "output_type": "display_data"
    }
   ],
   "source": [
    "clf = KNeighborsClassifier(n_neighbors=3)\n",
    "clf.fit(X_ct, y)\n",
    "print(clf.score(X_ct, y))\n",
    "\n",
    "y_test = pd.Series(clf.predict(test).astype(int), name=\"Survived\")\n",
    "result = pd.concat([test_df_passengeId, y_test], axis=1)\n",
    "result.to_csv(\"KNN.csv\", index=False)\n",
    "\n",
    "display(result)"
   ]
  }
 ],
 "metadata": {
  "kernelspec": {
   "display_name": "Python 3.10.6 ('.venv': venv)",
   "language": "python",
   "name": "python3"
  },
  "language_info": {
   "codemirror_mode": {
    "name": "ipython",
    "version": 3
   },
   "file_extension": ".py",
   "mimetype": "text/x-python",
   "name": "python",
   "nbconvert_exporter": "python",
   "pygments_lexer": "ipython3",
   "version": "3.10.6"
  },
  "orig_nbformat": 4,
  "vscode": {
   "interpreter": {
    "hash": "e458bfbbc2f229a3f2691b8ad57bc6141d31e4b1d7136b8144d77cb706b999f8"
   }
  }
 },
 "nbformat": 4,
 "nbformat_minor": 2
}
